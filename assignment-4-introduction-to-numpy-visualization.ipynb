{
 "cells": [
  {
   "cell_type": "code",
   "execution_count": null,
   "metadata": {
    "collapsed": true
   },
   "outputs": [],
   "source": [
    "# Assignment 4\n",
    "# Introduction to numpy and visualization\n",
    "# Due at 8am on March 29, 2018\n",
    "\n",
    "# Notes about assignment:\n",
    "# - data downloaded from:\n",
    "#   https://dasl.datadescription.com/datafile/hurricanes-2015/\n",
    "# - To ensure good commenting practice, one point from each\n",
    "#   question will be awarded for sufficient comments.\n",
    "# - Though a data file is provided, all attempts should be made so code\n",
    "#   is flexible to handle alternative data. For example,\n",
    "#   a new data file with more or fewer elements.\n"
   ]
  },
  {
   "cell_type": "code",
   "execution_count": null,
   "metadata": {
    "collapsed": true
   },
   "outputs": [],
   "source": [
    "# Question 1: (5 points)\n",
    "\n",
    "# Use comments to describe the data set.\n",
    "# What are the column names? \n",
    "# What data is contained in each column?\n",
    "# What type of data is included in each column?\n",
    "# Is there any missing data? If so, how are they annotated?\n",
    "# Something else you want to include to make \n",
    "#   future discussions of the data easier?\n",
    "\n"
   ]
  },
  {
   "cell_type": "code",
   "execution_count": null,
   "metadata": {
    "collapsed": true
   },
   "outputs": [],
   "source": [
    "# Question 2: (5 points)\n",
    "\n",
    "# create a function called 'read_data' to read in the data\n",
    "# - you have the flexibility to read in the data into\n",
    "#   any data structure you prefer (e.g., list of lists, dictionary, other)\n",
    "# - return data from function\n",
    "\n",
    "\n",
    "\n",
    "\n",
    "# example function call\n",
    "\n",
    "filename = \"hurricanes-2015.txt\"\n",
    "data = read_data(filename)\n"
   ]
  },
  {
   "cell_type": "code",
   "execution_count": null,
   "metadata": {
    "collapsed": true
   },
   "outputs": [],
   "source": [
    "# Question 3: (10 points)\n",
    "\n",
    "# create a function called 'summarize_data' to summarize the data\n",
    "# - this function should take optional keyword arguments to \n",
    "#   indicate the columns to summarize.\n",
    "# - this function should take an optional verbose argument with default value False.\n",
    "#   if verbose is set to True, a meaningful and readable output should\n",
    "#   be printed to screen.\n",
    "# - the summary values include the mean, min, max, standard deviation.\n",
    "# - this function should return the summarized data in a meaningful format.\n",
    "\n",
    "\n",
    "\n",
    "# example function call\n",
    "\n",
    "data_summary = summarize_data(data, \n",
    "                              columns=['Year','Max.Wind.Speed(kts)','Central.Pressure(mb)','Category'], \n",
    "                              verbose=True)\n"
   ]
  },
  {
   "cell_type": "code",
   "execution_count": null,
   "metadata": {
    "collapsed": true
   },
   "outputs": [],
   "source": [
    "# Question 3: (10 points)\n",
    "\n",
    "# create a boxplot of the maximum wind speed grouped by category\n",
    "# add the following features:\n",
    "# - title\n",
    "# - axis labels\n",
    "# - remove part of the box around the plot\n",
    "# - annotate any outlier points\n",
    "# - change the colors from default (make them congruent with the severity of the storm)\n",
    "\n",
    "\n"
   ]
  },
  {
   "cell_type": "code",
   "execution_count": null,
   "metadata": {
    "collapsed": true
   },
   "outputs": [],
   "source": [
    "# Question 4: (15 points)\n",
    "\n",
    "# summarize the relationship between wind speed and central pressure\n",
    "# - compute the correlation between maxiumum wind speed and central pressure\n",
    "# - compute the line of best fit to predict central pressure from wind speed\n",
    "# - write all results in a meaningful way\n",
    "# - create a scatterplot displaying this analysis\n",
    "#    add the following features:\n",
    "#    - title\n",
    "#    - axis labels\n",
    "#    - remove part of the box around the plot\n",
    "#    - annotate any outlier points\n",
    "#    - change the colors from default \n",
    "#    - add the line of best fit\n",
    "#    - add features to make the plot look non-generic\n",
    "\n"
   ]
  },
  {
   "cell_type": "code",
   "execution_count": null,
   "metadata": {
    "collapsed": true
   },
   "outputs": [],
   "source": [
    "# Question 5: (15 points)\n",
    "\n",
    "# Create a hypothesis to be tested over time.\n",
    "# Complete each of the steps from Question 4 while addressing this question.\n",
    "# - summarize the results (the statistics)\n",
    "# - create a figure to support these results (the visualization)\n"
   ]
  },
  {
   "cell_type": "code",
   "execution_count": null,
   "metadata": {
    "collapsed": true
   },
   "outputs": [],
   "source": [
    "# Question 6: (15 points extra credit + 10 points if selected winner)\n",
    "\n",
    "# enter the best visualization contest\n",
    "# using this data or another data set, create the best visualization you can.\n",
    "# the class will vote on which figure is the best.\n",
    "\n",
    "# include a discussion about what the visualization is supposed to represent.\n",
    "\n"
   ]
  }
 ],
 "metadata": {
  "kernelspec": {
   "display_name": "Python 2",
   "language": "python",
   "name": "python2"
  },
  "language_info": {
   "codemirror_mode": {
    "name": "ipython",
    "version": 2
   },
   "file_extension": ".py",
   "mimetype": "text/x-python",
   "name": "python",
   "nbconvert_exporter": "python",
   "pygments_lexer": "ipython2",
   "version": "2.7.14"
  }
 },
 "nbformat": 4,
 "nbformat_minor": 2
}
